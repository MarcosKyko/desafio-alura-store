{
  "nbformat": 4,
  "nbformat_minor": 0,
  "metadata": {
    "colab": {
      "provenance": [],
      "toc_visible": true
    },
    "kernelspec": {
      "name": "python3",
      "display_name": "Python 3"
    },
    "language_info": {
      "name": "python"
    }
  },
  "cells": [
    {
      "cell_type": "markdown",
      "source": [
        "### Importação dos dados\n",
        "\n"
      ],
      "metadata": {
        "id": "RhEdWd9YUR6H"
      }
    },
    {
      "cell_type": "code",
      "execution_count": 63,
      "metadata": {
        "colab": {
          "base_uri": "https://localhost:8080/",
          "height": 327
        },
        "id": "T3EvaeQ_INIL",
        "outputId": "bf666bc5-33c1-4111-9329-e05640ba8c29"
      },
      "outputs": [
        {
          "output_type": "execute_result",
          "data": {
            "text/plain": [
              "                 Produto Categoria do Produto    Preço      Frete  \\\n",
              "0     Assistente virtual          eletronicos   219.08   9.249790   \n",
              "1         Mesa de jantar               moveis   256.35  11.234305   \n",
              "2      Jogo de tabuleiro           brinquedos   279.51  21.262681   \n",
              "3            Micro-ondas     eletrodomesticos  1009.99  54.667344   \n",
              "4  Cadeira de escritório               moveis   446.99  26.964689   \n",
              "\n",
              "  Data da Compra        Vendedor Local da compra  Avaliação da compra  \\\n",
              "0     16/01/2021     Pedro Gomes              SP                    4   \n",
              "1     18/05/2022  Beatriz Moraes              RJ                    1   \n",
              "2     15/03/2021      João Souza              DF                    1   \n",
              "3     03/05/2022      João Souza              RS                    4   \n",
              "4     07/11/2020   Larissa Alves              MG                    5   \n",
              "\n",
              "  Tipo de pagamento  Quantidade de parcelas    lat    lon  \n",
              "0    cartao_credito                       8 -22.19 -48.79  \n",
              "1    cartao_credito                       4 -22.25 -42.66  \n",
              "2    cartao_credito                       1 -15.83 -47.86  \n",
              "3            boleto                       1 -30.17 -53.50  \n",
              "4            boleto                       1 -18.10 -44.38  "
            ],
            "text/html": [
              "\n",
              "  <div id=\"df-2c5d0ca3-0378-4e50-a59b-869238d3c297\" class=\"colab-df-container\">\n",
              "    <div>\n",
              "<style scoped>\n",
              "    .dataframe tbody tr th:only-of-type {\n",
              "        vertical-align: middle;\n",
              "    }\n",
              "\n",
              "    .dataframe tbody tr th {\n",
              "        vertical-align: top;\n",
              "    }\n",
              "\n",
              "    .dataframe thead th {\n",
              "        text-align: right;\n",
              "    }\n",
              "</style>\n",
              "<table border=\"1\" class=\"dataframe\">\n",
              "  <thead>\n",
              "    <tr style=\"text-align: right;\">\n",
              "      <th></th>\n",
              "      <th>Produto</th>\n",
              "      <th>Categoria do Produto</th>\n",
              "      <th>Preço</th>\n",
              "      <th>Frete</th>\n",
              "      <th>Data da Compra</th>\n",
              "      <th>Vendedor</th>\n",
              "      <th>Local da compra</th>\n",
              "      <th>Avaliação da compra</th>\n",
              "      <th>Tipo de pagamento</th>\n",
              "      <th>Quantidade de parcelas</th>\n",
              "      <th>lat</th>\n",
              "      <th>lon</th>\n",
              "    </tr>\n",
              "  </thead>\n",
              "  <tbody>\n",
              "    <tr>\n",
              "      <th>0</th>\n",
              "      <td>Assistente virtual</td>\n",
              "      <td>eletronicos</td>\n",
              "      <td>219.08</td>\n",
              "      <td>9.249790</td>\n",
              "      <td>16/01/2021</td>\n",
              "      <td>Pedro Gomes</td>\n",
              "      <td>SP</td>\n",
              "      <td>4</td>\n",
              "      <td>cartao_credito</td>\n",
              "      <td>8</td>\n",
              "      <td>-22.19</td>\n",
              "      <td>-48.79</td>\n",
              "    </tr>\n",
              "    <tr>\n",
              "      <th>1</th>\n",
              "      <td>Mesa de jantar</td>\n",
              "      <td>moveis</td>\n",
              "      <td>256.35</td>\n",
              "      <td>11.234305</td>\n",
              "      <td>18/05/2022</td>\n",
              "      <td>Beatriz Moraes</td>\n",
              "      <td>RJ</td>\n",
              "      <td>1</td>\n",
              "      <td>cartao_credito</td>\n",
              "      <td>4</td>\n",
              "      <td>-22.25</td>\n",
              "      <td>-42.66</td>\n",
              "    </tr>\n",
              "    <tr>\n",
              "      <th>2</th>\n",
              "      <td>Jogo de tabuleiro</td>\n",
              "      <td>brinquedos</td>\n",
              "      <td>279.51</td>\n",
              "      <td>21.262681</td>\n",
              "      <td>15/03/2021</td>\n",
              "      <td>João Souza</td>\n",
              "      <td>DF</td>\n",
              "      <td>1</td>\n",
              "      <td>cartao_credito</td>\n",
              "      <td>1</td>\n",
              "      <td>-15.83</td>\n",
              "      <td>-47.86</td>\n",
              "    </tr>\n",
              "    <tr>\n",
              "      <th>3</th>\n",
              "      <td>Micro-ondas</td>\n",
              "      <td>eletrodomesticos</td>\n",
              "      <td>1009.99</td>\n",
              "      <td>54.667344</td>\n",
              "      <td>03/05/2022</td>\n",
              "      <td>João Souza</td>\n",
              "      <td>RS</td>\n",
              "      <td>4</td>\n",
              "      <td>boleto</td>\n",
              "      <td>1</td>\n",
              "      <td>-30.17</td>\n",
              "      <td>-53.50</td>\n",
              "    </tr>\n",
              "    <tr>\n",
              "      <th>4</th>\n",
              "      <td>Cadeira de escritório</td>\n",
              "      <td>moveis</td>\n",
              "      <td>446.99</td>\n",
              "      <td>26.964689</td>\n",
              "      <td>07/11/2020</td>\n",
              "      <td>Larissa Alves</td>\n",
              "      <td>MG</td>\n",
              "      <td>5</td>\n",
              "      <td>boleto</td>\n",
              "      <td>1</td>\n",
              "      <td>-18.10</td>\n",
              "      <td>-44.38</td>\n",
              "    </tr>\n",
              "  </tbody>\n",
              "</table>\n",
              "</div>\n",
              "    <div class=\"colab-df-buttons\">\n",
              "\n",
              "  <div class=\"colab-df-container\">\n",
              "    <button class=\"colab-df-convert\" onclick=\"convertToInteractive('df-2c5d0ca3-0378-4e50-a59b-869238d3c297')\"\n",
              "            title=\"Convert this dataframe to an interactive table.\"\n",
              "            style=\"display:none;\">\n",
              "\n",
              "  <svg xmlns=\"http://www.w3.org/2000/svg\" height=\"24px\" viewBox=\"0 -960 960 960\">\n",
              "    <path d=\"M120-120v-720h720v720H120Zm60-500h600v-160H180v160Zm220 220h160v-160H400v160Zm0 220h160v-160H400v160ZM180-400h160v-160H180v160Zm440 0h160v-160H620v160ZM180-180h160v-160H180v160Zm440 0h160v-160H620v160Z\"/>\n",
              "  </svg>\n",
              "    </button>\n",
              "\n",
              "  <style>\n",
              "    .colab-df-container {\n",
              "      display:flex;\n",
              "      gap: 12px;\n",
              "    }\n",
              "\n",
              "    .colab-df-convert {\n",
              "      background-color: #E8F0FE;\n",
              "      border: none;\n",
              "      border-radius: 50%;\n",
              "      cursor: pointer;\n",
              "      display: none;\n",
              "      fill: #1967D2;\n",
              "      height: 32px;\n",
              "      padding: 0 0 0 0;\n",
              "      width: 32px;\n",
              "    }\n",
              "\n",
              "    .colab-df-convert:hover {\n",
              "      background-color: #E2EBFA;\n",
              "      box-shadow: 0px 1px 2px rgba(60, 64, 67, 0.3), 0px 1px 3px 1px rgba(60, 64, 67, 0.15);\n",
              "      fill: #174EA6;\n",
              "    }\n",
              "\n",
              "    .colab-df-buttons div {\n",
              "      margin-bottom: 4px;\n",
              "    }\n",
              "\n",
              "    [theme=dark] .colab-df-convert {\n",
              "      background-color: #3B4455;\n",
              "      fill: #D2E3FC;\n",
              "    }\n",
              "\n",
              "    [theme=dark] .colab-df-convert:hover {\n",
              "      background-color: #434B5C;\n",
              "      box-shadow: 0px 1px 3px 1px rgba(0, 0, 0, 0.15);\n",
              "      filter: drop-shadow(0px 1px 2px rgba(0, 0, 0, 0.3));\n",
              "      fill: #FFFFFF;\n",
              "    }\n",
              "  </style>\n",
              "\n",
              "    <script>\n",
              "      const buttonEl =\n",
              "        document.querySelector('#df-2c5d0ca3-0378-4e50-a59b-869238d3c297 button.colab-df-convert');\n",
              "      buttonEl.style.display =\n",
              "        google.colab.kernel.accessAllowed ? 'block' : 'none';\n",
              "\n",
              "      async function convertToInteractive(key) {\n",
              "        const element = document.querySelector('#df-2c5d0ca3-0378-4e50-a59b-869238d3c297');\n",
              "        const dataTable =\n",
              "          await google.colab.kernel.invokeFunction('convertToInteractive',\n",
              "                                                    [key], {});\n",
              "        if (!dataTable) return;\n",
              "\n",
              "        const docLinkHtml = 'Like what you see? Visit the ' +\n",
              "          '<a target=\"_blank\" href=https://colab.research.google.com/notebooks/data_table.ipynb>data table notebook</a>'\n",
              "          + ' to learn more about interactive tables.';\n",
              "        element.innerHTML = '';\n",
              "        dataTable['output_type'] = 'display_data';\n",
              "        await google.colab.output.renderOutput(dataTable, element);\n",
              "        const docLink = document.createElement('div');\n",
              "        docLink.innerHTML = docLinkHtml;\n",
              "        element.appendChild(docLink);\n",
              "      }\n",
              "    </script>\n",
              "  </div>\n",
              "\n",
              "\n",
              "    <div id=\"df-b1e9e815-32ae-4e5e-8e75-7e530ba6f674\">\n",
              "      <button class=\"colab-df-quickchart\" onclick=\"quickchart('df-b1e9e815-32ae-4e5e-8e75-7e530ba6f674')\"\n",
              "                title=\"Suggest charts\"\n",
              "                style=\"display:none;\">\n",
              "\n",
              "<svg xmlns=\"http://www.w3.org/2000/svg\" height=\"24px\"viewBox=\"0 0 24 24\"\n",
              "     width=\"24px\">\n",
              "    <g>\n",
              "        <path d=\"M19 3H5c-1.1 0-2 .9-2 2v14c0 1.1.9 2 2 2h14c1.1 0 2-.9 2-2V5c0-1.1-.9-2-2-2zM9 17H7v-7h2v7zm4 0h-2V7h2v10zm4 0h-2v-4h2v4z\"/>\n",
              "    </g>\n",
              "</svg>\n",
              "      </button>\n",
              "\n",
              "<style>\n",
              "  .colab-df-quickchart {\n",
              "      --bg-color: #E8F0FE;\n",
              "      --fill-color: #1967D2;\n",
              "      --hover-bg-color: #E2EBFA;\n",
              "      --hover-fill-color: #174EA6;\n",
              "      --disabled-fill-color: #AAA;\n",
              "      --disabled-bg-color: #DDD;\n",
              "  }\n",
              "\n",
              "  [theme=dark] .colab-df-quickchart {\n",
              "      --bg-color: #3B4455;\n",
              "      --fill-color: #D2E3FC;\n",
              "      --hover-bg-color: #434B5C;\n",
              "      --hover-fill-color: #FFFFFF;\n",
              "      --disabled-bg-color: #3B4455;\n",
              "      --disabled-fill-color: #666;\n",
              "  }\n",
              "\n",
              "  .colab-df-quickchart {\n",
              "    background-color: var(--bg-color);\n",
              "    border: none;\n",
              "    border-radius: 50%;\n",
              "    cursor: pointer;\n",
              "    display: none;\n",
              "    fill: var(--fill-color);\n",
              "    height: 32px;\n",
              "    padding: 0;\n",
              "    width: 32px;\n",
              "  }\n",
              "\n",
              "  .colab-df-quickchart:hover {\n",
              "    background-color: var(--hover-bg-color);\n",
              "    box-shadow: 0 1px 2px rgba(60, 64, 67, 0.3), 0 1px 3px 1px rgba(60, 64, 67, 0.15);\n",
              "    fill: var(--button-hover-fill-color);\n",
              "  }\n",
              "\n",
              "  .colab-df-quickchart-complete:disabled,\n",
              "  .colab-df-quickchart-complete:disabled:hover {\n",
              "    background-color: var(--disabled-bg-color);\n",
              "    fill: var(--disabled-fill-color);\n",
              "    box-shadow: none;\n",
              "  }\n",
              "\n",
              "  .colab-df-spinner {\n",
              "    border: 2px solid var(--fill-color);\n",
              "    border-color: transparent;\n",
              "    border-bottom-color: var(--fill-color);\n",
              "    animation:\n",
              "      spin 1s steps(1) infinite;\n",
              "  }\n",
              "\n",
              "  @keyframes spin {\n",
              "    0% {\n",
              "      border-color: transparent;\n",
              "      border-bottom-color: var(--fill-color);\n",
              "      border-left-color: var(--fill-color);\n",
              "    }\n",
              "    20% {\n",
              "      border-color: transparent;\n",
              "      border-left-color: var(--fill-color);\n",
              "      border-top-color: var(--fill-color);\n",
              "    }\n",
              "    30% {\n",
              "      border-color: transparent;\n",
              "      border-left-color: var(--fill-color);\n",
              "      border-top-color: var(--fill-color);\n",
              "      border-right-color: var(--fill-color);\n",
              "    }\n",
              "    40% {\n",
              "      border-color: transparent;\n",
              "      border-right-color: var(--fill-color);\n",
              "      border-top-color: var(--fill-color);\n",
              "    }\n",
              "    60% {\n",
              "      border-color: transparent;\n",
              "      border-right-color: var(--fill-color);\n",
              "    }\n",
              "    80% {\n",
              "      border-color: transparent;\n",
              "      border-right-color: var(--fill-color);\n",
              "      border-bottom-color: var(--fill-color);\n",
              "    }\n",
              "    90% {\n",
              "      border-color: transparent;\n",
              "      border-bottom-color: var(--fill-color);\n",
              "    }\n",
              "  }\n",
              "</style>\n",
              "\n",
              "      <script>\n",
              "        async function quickchart(key) {\n",
              "          const quickchartButtonEl =\n",
              "            document.querySelector('#' + key + ' button');\n",
              "          quickchartButtonEl.disabled = true;  // To prevent multiple clicks.\n",
              "          quickchartButtonEl.classList.add('colab-df-spinner');\n",
              "          try {\n",
              "            const charts = await google.colab.kernel.invokeFunction(\n",
              "                'suggestCharts', [key], {});\n",
              "          } catch (error) {\n",
              "            console.error('Error during call to suggestCharts:', error);\n",
              "          }\n",
              "          quickchartButtonEl.classList.remove('colab-df-spinner');\n",
              "          quickchartButtonEl.classList.add('colab-df-quickchart-complete');\n",
              "        }\n",
              "        (() => {\n",
              "          let quickchartButtonEl =\n",
              "            document.querySelector('#df-b1e9e815-32ae-4e5e-8e75-7e530ba6f674 button');\n",
              "          quickchartButtonEl.style.display =\n",
              "            google.colab.kernel.accessAllowed ? 'block' : 'none';\n",
              "        })();\n",
              "      </script>\n",
              "    </div>\n",
              "\n",
              "    </div>\n",
              "  </div>\n"
            ],
            "application/vnd.google.colaboratory.intrinsic+json": {
              "type": "dataframe",
              "variable_name": "loja1",
              "summary": "{\n  \"name\": \"loja1\",\n  \"rows\": 2359,\n  \"fields\": [\n    {\n      \"column\": \"Produto\",\n      \"properties\": {\n        \"dtype\": \"category\",\n        \"num_unique_values\": 51,\n        \"samples\": [\n          \"Viol\\u00e3o\",\n          \"Bola de basquete\",\n          \"Smartwatch\"\n        ],\n        \"semantic_type\": \"\",\n        \"description\": \"\"\n      }\n    },\n    {\n      \"column\": \"Categoria do Produto\",\n      \"properties\": {\n        \"dtype\": \"category\",\n        \"num_unique_values\": 8,\n        \"samples\": [\n          \"moveis\",\n          \"esporte e lazer\",\n          \"eletronicos\"\n        ],\n        \"semantic_type\": \"\",\n        \"description\": \"\"\n      }\n    },\n    {\n      \"column\": \"Pre\\u00e7o\",\n      \"properties\": {\n        \"dtype\": \"number\",\n        \"std\": 819.5827782539145,\n        \"min\": 10.07,\n        \"max\": 3969.38,\n        \"num_unique_values\": 2315,\n        \"samples\": [\n          446.11,\n          107.31,\n          65.86\n        ],\n        \"semantic_type\": \"\",\n        \"description\": \"\"\n      }\n    },\n    {\n      \"column\": \"Frete\",\n      \"properties\": {\n        \"dtype\": \"number\",\n        \"std\": 43.814183327408166,\n        \"min\": 0.0,\n        \"max\": 214.3770604781,\n        \"num_unique_values\": 2149,\n        \"samples\": [\n          83.815279607,\n          16.069664669,\n          14.0344876928\n        ],\n        \"semantic_type\": \"\",\n        \"description\": \"\"\n      }\n    },\n    {\n      \"column\": \"Data da Compra\",\n      \"properties\": {\n        \"dtype\": \"object\",\n        \"num_unique_values\": 1018,\n        \"samples\": [\n          \"15/09/2022\",\n          \"03/06/2020\",\n          \"06/11/2021\"\n        ],\n        \"semantic_type\": \"\",\n        \"description\": \"\"\n      }\n    },\n    {\n      \"column\": \"Vendedor\",\n      \"properties\": {\n        \"dtype\": \"category\",\n        \"num_unique_values\": 14,\n        \"samples\": [\n          \"Juliana Costa\",\n          \"Mariana Ferreira\",\n          \"Pedro Gomes\"\n        ],\n        \"semantic_type\": \"\",\n        \"description\": \"\"\n      }\n    },\n    {\n      \"column\": \"Local da compra\",\n      \"properties\": {\n        \"dtype\": \"category\",\n        \"num_unique_values\": 26,\n        \"samples\": [\n          \"TO\",\n          \"RN\",\n          \"SP\"\n        ],\n        \"semantic_type\": \"\",\n        \"description\": \"\"\n      }\n    },\n    {\n      \"column\": \"Avalia\\u00e7\\u00e3o da compra\",\n      \"properties\": {\n        \"dtype\": \"number\",\n        \"std\": 1,\n        \"min\": 1,\n        \"max\": 5,\n        \"num_unique_values\": 5,\n        \"samples\": [\n          1,\n          2,\n          5\n        ],\n        \"semantic_type\": \"\",\n        \"description\": \"\"\n      }\n    },\n    {\n      \"column\": \"Tipo de pagamento\",\n      \"properties\": {\n        \"dtype\": \"category\",\n        \"num_unique_values\": 4,\n        \"samples\": [\n          \"boleto\",\n          \"cartao_debito\",\n          \"cartao_credito\"\n        ],\n        \"semantic_type\": \"\",\n        \"description\": \"\"\n      }\n    },\n    {\n      \"column\": \"Quantidade de parcelas\",\n      \"properties\": {\n        \"dtype\": \"number\",\n        \"std\": 2,\n        \"min\": 1,\n        \"max\": 24,\n        \"num_unique_values\": 15,\n        \"samples\": [\n          7,\n          14,\n          8\n        ],\n        \"semantic_type\": \"\",\n        \"description\": \"\"\n      }\n    },\n    {\n      \"column\": \"lat\",\n      \"properties\": {\n        \"dtype\": \"number\",\n        \"std\": 5.372399916530833,\n        \"min\": -30.17,\n        \"max\": 1.41,\n        \"num_unique_values\": 26,\n        \"samples\": [\n          -9.46,\n          -5.81,\n          -22.19\n        ],\n        \"semantic_type\": \"\",\n        \"description\": \"\"\n      }\n    },\n    {\n      \"column\": \"lon\",\n      \"properties\": {\n        \"dtype\": \"number\",\n        \"std\": 4.183180020544179,\n        \"min\": -70.55,\n        \"max\": -36.59,\n        \"num_unique_values\": 26,\n        \"samples\": [\n          -48.26,\n          -36.59,\n          -48.79\n        ],\n        \"semantic_type\": \"\",\n        \"description\": \"\"\n      }\n    }\n  ]\n}"
            }
          },
          "metadata": {},
          "execution_count": 63
        }
      ],
      "source": [
        "import pandas as pd\n",
        "\n",
        "url1 = \"https://raw.githubusercontent.com/alura-es-cursos/challenge1-data-science/refs/heads/main/base-de-dados-challenge-1/loja_1.csv\"\n",
        "url2 = \"https://raw.githubusercontent.com/alura-es-cursos/challenge1-data-science/refs/heads/main/base-de-dados-challenge-1/loja_2.csv\"\n",
        "url3 = \"https://raw.githubusercontent.com/alura-es-cursos/challenge1-data-science/refs/heads/main/base-de-dados-challenge-1/loja_3.csv\"\n",
        "url4 = \"https://raw.githubusercontent.com/alura-es-cursos/challenge1-data-science/refs/heads/main/base-de-dados-challenge-1/loja_4.csv\"\n",
        "\n",
        "loja1 = pd.read_csv(url1)\n",
        "loja2 = pd.read_csv(url2)\n",
        "loja3 = pd.read_csv(url3)\n",
        "loja4 = pd.read_csv(url4)\n",
        "\n",
        "loja1.head()\n"
      ]
    },
    {
      "cell_type": "markdown",
      "source": [
        "#1. Análise do faturamento\n"
      ],
      "metadata": {
        "id": "X62IW3KFUIYm"
      }
    },
    {
      "cell_type": "code",
      "source": [
        "fat_Loja1 = float(loja1['Preço'].sum())\n",
        "fat_Loja2 = float(loja2['Preço'].sum())\n",
        "fat_Loja3 = float(loja3['Preço'].sum())\n",
        "fat_Loja4 = float(loja4['Preço'].sum())\n",
        "fat_Grupo = float(fat_Loja1 + fat_Loja2 + fat_Loja3 + fat_Loja4)\n",
        "\n",
        "qt_Vd_Loja1 = int(loja1['Preço'].count())\n",
        "qt_Vd_Loja2 = int(loja2['Preço'].count())\n",
        "qt_Vd_Loja3 = int(loja3['Preço'].count())\n",
        "qt_Vd_Loja4 = int(loja4['Preço'].count())\n",
        "qt_Vd_Grupo = int(qt_Vd_Loja1 + qt_Vd_Loja2 + qt_Vd_Loja3 + qt_Vd_Loja4)\n",
        "\n",
        "print(\"Faturamento Loja 1: R$ %.2f.\" %(fat_Loja1))\n",
        "print(\"Faturamento Loja 2: R$ %.2f.\" %(fat_Loja2))\n",
        "print(\"Faturamento Loja 3: R$ %.2f.\" %(fat_Loja3))\n",
        "print(\"Faturamento Loja 4: R$ %.2f.\" %(fat_Loja4))\n",
        "\n",
        "print(\"Faturamento Total do Grupo: R$ %.2f.\" %(fat_Grupo))\n",
        "\n",
        "print(\"\")\n",
        "\n",
        "print(\"Quantidade Vendida Loja 1: %i unidades.\" %(qt_Vd_Loja1))\n",
        "print(\"Quantidade Vendida Loja 2: %i unidades.\" %(qt_Vd_Loja2))\n",
        "print(\"Quantidade Vendida Loja 3: %i unidades.\" %(qt_Vd_Loja3))\n",
        "print(\"Quantidade Vendida Loja 4: %i unidades.\" %(qt_Vd_Loja4))\n",
        "\n",
        "print(\"Quantidade Total Vendida do Grupo: %i unidades.\" %(qt_Vd_Grupo))"
      ],
      "metadata": {
        "id": "xykobSftV64I",
        "colab": {
          "base_uri": "https://localhost:8080/"
        },
        "outputId": "07b39439-6795-4c5a-a6b9-e565686283df"
      },
      "execution_count": 64,
      "outputs": [
        {
          "output_type": "stream",
          "name": "stdout",
          "text": [
            "Faturamento Loja 1: R$ 1534509.12.\n",
            "Faturamento Loja 2: R$ 1488459.06.\n",
            "Faturamento Loja 3: R$ 1464025.03.\n",
            "Faturamento Loja 4: R$ 1384497.58.\n",
            "Faturamento Total do Grupo: R$ 5871490.79.\n",
            "\n",
            "Quantidade Vendida Loja 1: 2359 unidades.\n",
            "Quantidade Vendida Loja 2: 2359 unidades.\n",
            "Quantidade Vendida Loja 3: 2359 unidades.\n",
            "Quantidade Vendida Loja 4: 2358 unidades.\n",
            "Quantidade Total Vendida do Grupo: 9435 unidades.\n"
          ]
        }
      ]
    },
    {
      "cell_type": "code",
      "source": [],
      "metadata": {
        "id": "KDyr8E71V3m-"
      },
      "execution_count": 64,
      "outputs": []
    },
    {
      "cell_type": "markdown",
      "source": [
        "# 2. Vendas por Categoria\n"
      ],
      "metadata": {
        "id": "2V_vcAPzWZmR"
      }
    },
    {
      "cell_type": "code",
      "source": [
        "# dsa_df[['Segmento', 'Regiao', 'Valor_Venda']].groupby(['Segmento', 'Regiao']).agg(['mean', 'std', 'count'])\n",
        "vd_Cat_Loja1 = loja1[['Categoria do Produto', 'Preço']].groupby(['Categoria do Produto']).agg(['sum', 'count'])\n",
        "vd_Cat_Loja2 = loja2[['Categoria do Produto', 'Preço']].groupby(['Categoria do Produto']).agg(['sum', 'count'])\n",
        "vd_Cat_Loja3 = loja3[['Categoria do Produto', 'Preço']].groupby(['Categoria do Produto']).agg(['sum', 'count'])\n",
        "vd_Cat_Loja4 = loja4[['Categoria do Produto', 'Preço']].groupby(['Categoria do Produto']).agg(['sum', 'count'])\n",
        "\n",
        "print(\"Vendas por Categoria Loja 1:\")\n",
        "print(vd_Cat_Loja1)\n",
        "print(\" \")\n",
        "print(\"Vendas por Categoria Loja 2:\")\n",
        "print(vd_Cat_Loja2)\n",
        "print(\" \")\n",
        "print(\"Vendas por Categoria Loja 3:\")\n",
        "print(vd_Cat_Loja3)\n",
        "print(\" \")\n",
        "print(\"Vendas por Categoria Loja 4:\")\n",
        "print(vd_Cat_Loja4)\n"
      ],
      "metadata": {
        "id": "A34YupIuYhfF",
        "colab": {
          "base_uri": "https://localhost:8080/"
        },
        "outputId": "2e2abdeb-b0ca-4c9a-8f58-bb31eb60e1b5"
      },
      "execution_count": 65,
      "outputs": [
        {
          "output_type": "stream",
          "name": "stdout",
          "text": [
            "Vendas por Categoria Loja 1:\n",
            "                           Preço      \n",
            "                             sum count\n",
            "Categoria do Produto                  \n",
            "brinquedos              23993.78   324\n",
            "eletrodomesticos       484913.36   312\n",
            "eletronicos            572659.23   448\n",
            "esporte e lazer         52387.55   284\n",
            "instrumentos musicais  121731.69   182\n",
            "livros                  11713.92   173\n",
            "moveis                 250178.11   465\n",
            "utilidades domesticas   16931.48   171\n",
            " \n",
            "Vendas por Categoria Loja 2:\n",
            "                           Preço      \n",
            "                             sum count\n",
            "Categoria do Produto                  \n",
            "brinquedos              21262.21   313\n",
            "eletrodomesticos       464758.13   305\n",
            "eletronicos            547773.71   422\n",
            "esporte e lazer         46326.09   275\n",
            "instrumentos musicais  139987.03   224\n",
            "livros                  13454.35   197\n",
            "moveis                 235234.68   442\n",
            "utilidades domesticas   19662.86   181\n",
            " \n",
            "Vendas por Categoria Loja 3:\n",
            "                           Preço      \n",
            "                             sum count\n",
            "Categoria do Produto                  \n",
            "brinquedos              25869.20   315\n",
            "eletrodomesticos       438984.89   278\n",
            "eletronicos            547699.92   451\n",
            "esporte e lazer         47456.10   277\n",
            "instrumentos musicais  103174.45   177\n",
            "livros                  12664.70   185\n",
            "moveis                 268095.56   499\n",
            "utilidades domesticas   20080.21   177\n",
            " \n",
            "Vendas por Categoria Loja 4:\n",
            "                           Preço      \n",
            "                             sum count\n",
            "Categoria do Produto                  \n",
            "brinquedos              27015.67   338\n",
            "eletrodomesticos       377680.65   254\n",
            "eletronicos            545966.86   451\n",
            "esporte e lazer         44465.65   277\n",
            "instrumentos musicais  100136.50   170\n",
            "livros                  12427.77   187\n",
            "moveis                 256705.65   480\n",
            "utilidades domesticas   20098.83   201\n"
          ]
        }
      ]
    },
    {
      "cell_type": "code",
      "source": [],
      "metadata": {
        "id": "yZR6cOjXYSk1"
      },
      "execution_count": 65,
      "outputs": []
    },
    {
      "cell_type": "markdown",
      "source": [
        "# 3. Média de Avaliação das Lojas"
      ],
      "metadata": {
        "id": "Rq6tU_xSY3jk"
      }
    },
    {
      "cell_type": "code",
      "source": [
        "media_Aval_Loja1 = float(loja1['Avaliação da compra'].mean())\n",
        "media_Aval_Loja2 = float(loja2['Avaliação da compra'].mean())\n",
        "media_Aval_Loja3 = float(loja3['Avaliação da compra'].mean())\n",
        "media_Aval_Loja4 = float(loja4['Avaliação da compra'].mean())\n",
        "media_Aval_Total = float((media_Aval_Loja1 + media_Aval_Loja2 + media_Aval_Loja3 + media_Aval_Loja4) / 4)\n",
        "\n",
        "print(\"Média Avaliação Loja 1: %.2f.\" %(media_Aval_Loja1))\n",
        "print(\"Média Avaliação Loja 2: %.2f.\" %(media_Aval_Loja2))\n",
        "print(\"Média Avaliação Loja 3: %.2f.\" %(media_Aval_Loja3))\n",
        "print(\"Média Avaliação Loja 4: %.2f.\" %(media_Aval_Loja4))\n",
        "print(\"Média Avaliação Grupo: %.2f.\" %(media_Aval_Total))\n"
      ],
      "metadata": {
        "id": "bh3jjjJwY5MU",
        "colab": {
          "base_uri": "https://localhost:8080/"
        },
        "outputId": "60dabef3-b091-46cf-a6ae-969d84e9039d"
      },
      "execution_count": 66,
      "outputs": [
        {
          "output_type": "stream",
          "name": "stdout",
          "text": [
            "Média Avaliação Loja 1: 3.98.\n",
            "Média Avaliação Loja 2: 4.04.\n",
            "Média Avaliação Loja 3: 4.05.\n",
            "Média Avaliação Loja 4: 4.00.\n",
            "Média Avaliação Grupo: 4.01.\n"
          ]
        }
      ]
    },
    {
      "cell_type": "code",
      "source": [],
      "metadata": {
        "id": "I0KkjPoTY88F"
      },
      "execution_count": 66,
      "outputs": []
    },
    {
      "cell_type": "markdown",
      "source": [
        "# 4. Produtos Mais e Menos Vendidos"
      ],
      "metadata": {
        "id": "DmNp1KPBZCm-"
      }
    },
    {
      "cell_type": "code",
      "source": [
        "# Gerar soma de quantidades vendidas de produtos.\n",
        "# Listar produtos mais vendidos (unidades).\n",
        "res_Prod_Loja1 = loja1[['Produto', 'Preço']].groupby(['Produto']).agg(['sum', 'count'])\n",
        "res_Prod_Loja2 = loja2[['Produto', 'Preço']].groupby(['Produto']).agg(['sum', 'count'])\n",
        "res_Prod_Loja3 = loja3[['Produto', 'Preço']].groupby(['Produto']).agg(['sum', 'count'])\n",
        "res_Prod_Loja4 = loja4[['Produto', 'Preço']].groupby(['Produto']).agg(['sum', 'count'])\n",
        "\n",
        "print(\"Produtos Mais Vendidos Loja 1:\")\n",
        "print(res_Prod_Loja1.sort_values(by=[('Preço', 'count')], ascending=False).head())\n",
        "\n",
        "print(\" \")\n",
        "\n",
        "print(\"Produtos Mais Vendidos Loja 2:\")\n",
        "print(res_Prod_Loja2.sort_values(by=[('Preço', 'count')], ascending=False).head())\n",
        "\n",
        "print(\" \")\n",
        "\n",
        "print(\"Produtos Mais Vendidos Loja 3:\")\n",
        "print(res_Prod_Loja3.sort_values(by=[('Preço', 'count')], ascending=False).head())\n",
        "\n",
        "print(\" \")\n",
        "\n",
        "print(\"Produtos Mais Vendidos Loja 4:\")\n",
        "print(res_Prod_Loja4.sort_values(by=[('Preço', 'count')], ascending=False).head())"
      ],
      "metadata": {
        "id": "qoyjqijQZHfF",
        "colab": {
          "base_uri": "https://localhost:8080/"
        },
        "outputId": "4e44fa73-8354-4405-ae51-29c53a048d8d"
      },
      "execution_count": 67,
      "outputs": [
        {
          "output_type": "stream",
          "name": "stdout",
          "text": [
            "Produtos Mais Vendidos Loja 1:\n",
            "                        Preço      \n",
            "                          sum count\n",
            "Produto                            \n",
            "TV Led UHD 4K       189534.28    60\n",
            "Micro-ondas          46348.89    60\n",
            "Guarda roupas        39282.78    60\n",
            "Secadora de roupas   78749.73    58\n",
            "Blocos de montar      2487.74    56\n",
            " \n",
            "Produtos Mais Vendidos Loja 2:\n",
            "                             Preço      \n",
            "                               sum count\n",
            "Produto                                 \n",
            "Iniciando em programação   4169.96    65\n",
            "Micro-ondas               48256.37    62\n",
            "Bateria                   61566.87    61\n",
            "Violão                    24864.13    58\n",
            "Pandeiro                   4967.00    58\n",
            " \n",
            "Produtos Mais Vendidos Loja 3:\n",
            "                    Preço      \n",
            "                      sum count\n",
            "Produto                        \n",
            "Kit banquetas    22265.96    57\n",
            "Mesa de jantar   19101.40    56\n",
            "Cama king        51779.90    56\n",
            "Cômoda           20487.18    55\n",
            "Jogo de panelas  11595.04    55\n",
            " \n",
            "Produtos Mais Vendidos Loja 4:\n",
            "                            Preço      \n",
            "                              sum count\n",
            "Produto                                \n",
            "Cama box                 43928.57    62\n",
            "Faqueiro                  3532.16    59\n",
            "Cama king                50073.16    56\n",
            "Dashboards com Power BI   2654.28    56\n",
            "Cômoda                   20192.46    55\n"
          ]
        }
      ]
    },
    {
      "cell_type": "code",
      "source": [
        "# Listar produtos menos vendidos (unidades).\n",
        "print(\"Produtos Menos Vendidos Loja 1:\")\n",
        "print(res_Prod_Loja1.sort_values(by=[('Preço', 'count')], ascending=True).head())\n",
        "\n",
        "print(\" \")\n",
        "\n",
        "print(\"Produtos Menos Vendidos Loja 2:\")\n",
        "print(res_Prod_Loja2.sort_values(by=[('Preço', 'count')], ascending=True).head())\n",
        "\n",
        "print(\" \")\n",
        "\n",
        "print(\"Produtos Menos Vendidos Loja 3:\")\n",
        "print(res_Prod_Loja3.sort_values(by=[('Preço', 'count')], ascending=True).head())\n",
        "\n",
        "print(\" \")\n",
        "\n",
        "print(\"Produtos Menos Vendidos Loja 4:\")\n",
        "print(res_Prod_Loja4.sort_values(by=[('Preço', 'count')], ascending=True).head())\n"
      ],
      "metadata": {
        "id": "0Sw3sd4IZIGW",
        "colab": {
          "base_uri": "https://localhost:8080/"
        },
        "outputId": "dbf392ea-d2ee-49ca-90d2-fd311ac6a3b4"
      },
      "execution_count": 68,
      "outputs": [
        {
          "output_type": "stream",
          "name": "stdout",
          "text": [
            "Produtos Menos Vendidos Loja 1:\n",
            "                                Preço      \n",
            "                                  sum count\n",
            "Produto                                    \n",
            "Celular ABXY                 43534.47    33\n",
            "Headset                       6307.71    33\n",
            "Panela de pressão             3505.71    35\n",
            "Pandeiro                      2985.19    36\n",
            "Ciência de dados com python   2752.18    39\n",
            " \n",
            "Produtos Menos Vendidos Loja 2:\n",
            "                      Preço      \n",
            "                        sum count\n",
            "Produto                          \n",
            "Jogo de tabuleiro   7749.58    32\n",
            "Impressora         13846.69    34\n",
            "Mesa de jantar     11516.31    34\n",
            "Poltrona           11218.00    35\n",
            "Fone de ouvido      4759.28    37\n",
            " \n",
            "Produtos Menos Vendidos Loja 3:\n",
            "                     Preço      \n",
            "                       sum count\n",
            "Produto                         \n",
            "Blocos de montar   1649.81    35\n",
            "Jogo de copos      1614.20    36\n",
            "Micro-ondas       25538.25    36\n",
            "Mochila            4729.54    36\n",
            "Guitarra          39797.29    38\n",
            " \n",
            "Produtos Menos Vendidos Loja 4:\n",
            "                                Preço      \n",
            "                                  sum count\n",
            "Produto                                    \n",
            "Guitarra                     34430.67    33\n",
            "Guarda roupas                21895.36    34\n",
            "Violão                       15009.67    37\n",
            "Ciência de dados com python   2811.87    38\n",
            "Lavadora de roupas           69951.68    38\n"
          ]
        }
      ]
    },
    {
      "cell_type": "code",
      "source": [
        "\n",
        "\n",
        "\n"
      ],
      "metadata": {
        "id": "FKY9gkM-0VJ7"
      },
      "execution_count": 68,
      "outputs": []
    },
    {
      "cell_type": "markdown",
      "source": [
        "# 5. Frete Médio por Loja\n"
      ],
      "metadata": {
        "id": "Fl0cGi3bZKqU"
      }
    },
    {
      "cell_type": "code",
      "source": [
        "media_Frete_Loja1 = float(loja1['Frete'].mean())\n",
        "media_Frete_Loja2 = float(loja2['Frete'].mean())\n",
        "media_Frete_Loja3 = float(loja3['Frete'].mean())\n",
        "media_Frete_Loja4 = float(loja4['Frete'].mean())\n",
        "\n",
        "print(\"Frete Médio p/Unidade Vendida Loja 1: R$ %.2f.\" %(media_Frete_Loja1))\n",
        "print(\"Frete Médio p/Unidade Vendida Loja 2: R$ %.2f.\" %(media_Frete_Loja2))\n",
        "print(\"Frete Médio p/Unidade Vendida Loja 3: R$ %.2f.\" %(media_Frete_Loja3))\n",
        "print(\"Frete Médio p/Unidade Vendida Loja 4: R$ %.2f.\" %(media_Frete_Loja4))"
      ],
      "metadata": {
        "id": "S2JeaCykZNy9",
        "colab": {
          "base_uri": "https://localhost:8080/"
        },
        "outputId": "a30d0b46-e65a-448c-a935-49d53fd7e0b5"
      },
      "execution_count": 69,
      "outputs": [
        {
          "output_type": "stream",
          "name": "stdout",
          "text": [
            "Frete Médio p/Unidade Vendida Loja 1: R$ 34.69.\n",
            "Frete Médio p/Unidade Vendida Loja 2: R$ 33.62.\n",
            "Frete Médio p/Unidade Vendida Loja 3: R$ 33.07.\n",
            "Frete Médio p/Unidade Vendida Loja 4: R$ 31.28.\n"
          ]
        }
      ]
    },
    {
      "cell_type": "code",
      "source": [
        "# Custo Total do Frete, por Loja.\n",
        "total_Frete_Loja1 = float(loja1['Frete'].sum())\n",
        "total_Frete_Loja2 = float(loja2['Frete'].sum())\n",
        "total_Frete_Loja3 = float(loja3['Frete'].sum())\n",
        "total_Frete_Loja4 = float(loja4['Frete'].sum())\n",
        "\n",
        "print(\"Custo Total Frete Loja1: R$ %.2f.\" %(total_Frete_Loja1))\n",
        "print(\"Custo Total Frete Loja2: R$ %.2f.\" %(total_Frete_Loja2))\n",
        "print(\"Custo Total Frete Loja3: R$ %.2f.\" %(total_Frete_Loja3))\n",
        "print(\"Custo Total Frete Loja4: R$ %.2f.\" %(total_Frete_Loja4))\n"
      ],
      "metadata": {
        "id": "0tSdCie9ZQlt",
        "colab": {
          "base_uri": "https://localhost:8080/"
        },
        "outputId": "e777e54a-89bf-4f97-88ff-40a87c6c4c5a"
      },
      "execution_count": 70,
      "outputs": [
        {
          "output_type": "stream",
          "name": "stdout",
          "text": [
            "Custo Total Frete Loja1: R$ 81837.97.\n",
            "Custo Total Frete Loja2: R$ 79314.16.\n",
            "Custo Total Frete Loja3: R$ 78022.66.\n",
            "Custo Total Frete Loja4: R$ 73755.88.\n"
          ]
        }
      ]
    },
    {
      "cell_type": "markdown",
      "source": [
        "# 6. Outros Indicadores Operacionais"
      ],
      "metadata": {
        "id": "N5Vv-MnIGeq6"
      }
    },
    {
      "cell_type": "markdown",
      "source": [
        "**6.1 Calcular Preço Médio de Venda por Loja.**"
      ],
      "metadata": {
        "id": "hKSvMs2zIPUt"
      }
    },
    {
      "cell_type": "code",
      "source": [
        "pr_Medio_Lj1 = float(fat_Loja1 / qt_Vd_Loja1)\n",
        "pr_Medio_Lj2 = float(fat_Loja2 / qt_Vd_Loja2)\n",
        "pr_Medio_Lj3 = float(fat_Loja3 / qt_Vd_Loja3)\n",
        "pr_Medio_Lj4 = float(fat_Loja4 / qt_Vd_Loja4)\n",
        "pr_Medio_Grupo = float(fat_Grupo / qt_Vd_Grupo)\n",
        "\n",
        "print(\"Preço Médio de Venda Loja 1: R$ %.2f.\" %(pr_Medio_Lj1))\n",
        "print(\"Preço Médio de Venda Loja 2: R$ %.2f.\" %(pr_Medio_Lj2))\n",
        "print(\"Preço Médio de Venda Loja 3: R$ %.2f.\" %(pr_Medio_Lj3))\n",
        "print(\"Preço Médio de Venda Loja 4: R$ %.2f.\" %(pr_Medio_Lj4))\n",
        "print(\"Preço Médio de Venda Grupo: R$ %.2f.\" %(pr_Medio_Grupo))\n",
        "\n"
      ],
      "metadata": {
        "colab": {
          "base_uri": "https://localhost:8080/"
        },
        "id": "1jQLVJGUhq7r",
        "outputId": "2dfee008-5427-4126-d58d-96dbc8228cd9"
      },
      "execution_count": 71,
      "outputs": [
        {
          "output_type": "stream",
          "name": "stdout",
          "text": [
            "Preço Médio de Venda Loja 1: R$ 650.49.\n",
            "Preço Médio de Venda Loja 2: R$ 630.97.\n",
            "Preço Médio de Venda Loja 3: R$ 620.61.\n",
            "Preço Médio de Venda Loja 4: R$ 587.15.\n",
            "Preço Médio de Venda Grupo: R$ 622.31.\n"
          ]
        }
      ]
    },
    {
      "cell_type": "markdown",
      "source": [
        "**6.2 Calcular % Venda por Tipo de Pagamento, por Loja.**"
      ],
      "metadata": {
        "id": "h_kY0_Ktysxz"
      }
    },
    {
      "cell_type": "code",
      "source": [
        "# Agrupar Vendas por Tipo de Pagamento.\n",
        "res_TpPg_Loja1 = loja1[['Tipo de pagamento', 'Preço']].groupby(['Tipo de pagamento']).agg(['sum', 'count'])\n",
        "res_TpPg_Loja2 = loja2[['Tipo de pagamento', 'Preço']].groupby(['Tipo de pagamento']).agg(['sum', 'count'])\n",
        "res_TpPg_Loja3 = loja3[['Tipo de pagamento', 'Preço']].groupby(['Tipo de pagamento']).agg(['sum', 'count'])\n",
        "res_TpPg_Loja4 = loja4[['Tipo de pagamento', 'Preço']].groupby(['Tipo de pagamento']).agg(['sum', 'count'])\n",
        "\n",
        "print(\"Vendas por Tipo de Pagamento Loja 1:\")\n",
        "print(res_TpPg_Loja1.sort_values(by=[('Preço', 'sum')], ascending=False))\n",
        "print(\"\")\n",
        "print(\"Vendas por Tipo de Pagamento Loja 2:\")\n",
        "print(res_TpPg_Loja2.sort_values(by=[('Preço', 'sum')], ascending=False))\n",
        "print(\"\")\n",
        "print(\"Vendas por Tipo de Pagamento Loja 3:\")\n",
        "print(res_TpPg_Loja3.sort_values(by=[('Preço', 'sum')], ascending=False))\n",
        "print(\"\")\n",
        "print(\"Vendas por Tipo de Pagamento Loja 4:\")\n",
        "print(res_TpPg_Loja4.sort_values(by=[('Preço', 'sum')], ascending=False))\n"
      ],
      "metadata": {
        "colab": {
          "base_uri": "https://localhost:8080/"
        },
        "id": "7eqbth9Ey4-6",
        "outputId": "9b0b62e0-0070-4aeb-f263-e4fff42476a8"
      },
      "execution_count": 72,
      "outputs": [
        {
          "output_type": "stream",
          "name": "stdout",
          "text": [
            "Vendas por Tipo de Pagamento Loja 1:\n",
            "                        Preço      \n",
            "                          sum count\n",
            "Tipo de pagamento                  \n",
            "cartao_credito     1120887.66  1704\n",
            "boleto              310147.09   483\n",
            "cupom                85475.32   137\n",
            "cartao_debito        17999.05    35\n",
            "\n",
            "Vendas por Tipo de Pagamento Loja 2:\n",
            "                        Preço      \n",
            "                          sum count\n",
            "Tipo de pagamento                  \n",
            "cartao_credito     1088879.31  1721\n",
            "boleto              280998.45   467\n",
            "cupom               103156.31   141\n",
            "cartao_debito        15424.99    30\n",
            "\n",
            "Vendas por Tipo de Pagamento Loja 3:\n",
            "                        Preço      \n",
            "                          sum count\n",
            "Tipo de pagamento                  \n",
            "cartao_credito     1072760.47  1753\n",
            "boleto              305762.67   468\n",
            "cupom                63215.19   101\n",
            "cartao_debito        22286.70    37\n",
            "\n",
            "Vendas por Tipo de Pagamento Loja 4:\n",
            "                        Preço      \n",
            "                          sum count\n",
            "Tipo de pagamento                  \n",
            "cartao_credito     1024944.60  1720\n",
            "boleto              277337.97   482\n",
            "cupom                62648.28   125\n",
            "cartao_debito        19566.73    31\n"
          ]
        }
      ]
    },
    {
      "cell_type": "code",
      "source": [
        "# Agrupar e totalizar formas de pagamento.\n",
        "\n",
        "boleto1 = res_TpPg_Loja1.loc['boleto', ('Preço', 'sum')] # Acesso udando MultiIndex\n",
        "boleto2 = res_TpPg_Loja2.loc['boleto', ('Preço', 'sum')]\n",
        "boleto3 = res_TpPg_Loja3.loc['boleto', ('Preço', 'sum')]\n",
        "boleto4 = res_TpPg_Loja4.loc['boleto', ('Preço', 'sum')]\n",
        "\n",
        "ccredito1 = res_TpPg_Loja1.loc['cartao_credito', ('Preço', 'sum')]\n",
        "ccredito2 = res_TpPg_Loja2.loc['cartao_credito', ('Preço', 'sum')]\n",
        "ccredito3 = res_TpPg_Loja3.loc['cartao_credito', ('Preço', 'sum')]\n",
        "ccredito4 = res_TpPg_Loja4.loc['cartao_credito', ('Preço', 'sum')]\n",
        "\n",
        "cdebito1 = res_TpPg_Loja1.loc['cartao_debito', ('Preço', 'sum')]\n",
        "cdebito2 = res_TpPg_Loja2.loc['cartao_debito', ('Preço', 'sum')]\n",
        "cdebito3 = res_TpPg_Loja3.loc['cartao_debito', ('Preço', 'sum')]\n",
        "cdebito4 = res_TpPg_Loja4.loc['cartao_debito', ('Preço', 'sum')]\n",
        "\n",
        "cupom1 = res_TpPg_Loja1.loc['cupom', ('Preço', 'sum')]\n",
        "cupom2 = res_TpPg_Loja2.loc['cupom', ('Preço', 'sum')]\n",
        "cupom3 = res_TpPg_Loja3.loc['cupom', ('Preço', 'sum')]\n",
        "cupom4 = res_TpPg_Loja4.loc['cupom', ('Preço', 'sum')]\n",
        "\n",
        "boleto_Total = float(boleto1 + boleto2 + boleto3 + boleto4)\n",
        "ccredito_Total = float(ccredito1 + ccredito2 + ccredito3 + ccredito4)\n",
        "cdebito_Total = float(cdebito1 + cdebito2 + cdebito3 + cdebito4)\n",
        "cupom_Total = float(cupom1 + cupom2 + cupom3 + cupom4)\n",
        "\n",
        "\n"
      ],
      "metadata": {
        "id": "2iylooWSMPWw"
      },
      "execution_count": 73,
      "outputs": []
    },
    {
      "cell_type": "markdown",
      "source": [
        "**6.3 Calcular Percentual de Eficiência por Loja.**"
      ],
      "metadata": {
        "id": "Yf45MSpjJWx1"
      }
    },
    {
      "cell_type": "code",
      "source": [
        "# Calculo da Taxa de Eficiência por Loja e Total do Grupo.\n",
        "# Com base na nota máxima de avaliação 5, por venda.\n",
        "\n",
        "tx_Max_Lj1 = float(qt_Vd_Loja1 * 5)\n",
        "tx_Max_Lj2 = float(qt_Vd_Loja2 * 5)\n",
        "tx_Max_Lj3 = float(qt_Vd_Loja3 * 5)\n",
        "tx_Max_Lj4 = float(qt_Vd_Loja4 * 5)\n",
        "tx_Max_Grupo = float(qt_Vd_Grupo * 5)\n",
        "\n",
        "tx_Aval_Grupo = float(loja1['Avaliação da compra'].sum() +\n",
        "                      loja2['Avaliação da compra'].sum() +\n",
        "                      loja3['Avaliação da compra'].sum() +\n",
        "                      loja4['Avaliação da compra'].sum())\n",
        "\n",
        "\n",
        "tx_Efic_Lj1 = float(loja1['Avaliação da compra'].sum() / tx_Max_Lj1) * 100\n",
        "tx_Efic_Lj2 = float(loja2['Avaliação da compra'].sum() / tx_Max_Lj2) * 100\n",
        "tx_Efic_Lj3 = float(loja3['Avaliação da compra'].sum() / tx_Max_Lj3) * 100\n",
        "tx_Efic_Lj4 = float(loja4['Avaliação da compra'].sum() / tx_Max_Lj4) * 100\n",
        "tx_Efic_Grupo = float(tx_Aval_Grupo / tx_Max_Grupo) * 100\n",
        "\n",
        "print(\"Taxa de eficiência da Loja 1: %.2f.\" %(tx_Efic_Lj1))\n",
        "print(\"Taxa de eficiência da Loja 2: %.2f.\" %(tx_Efic_Lj2))\n",
        "print(\"Taxa de eficiência da Loja 3: %.2f.\" %(tx_Efic_Lj3))\n",
        "print(\"Taxa de eficiência da Loja 4: %.2f.\" %(tx_Efic_Lj4))\n",
        "print(\"Taxa de eficiência do Grupo: %.2f.\" %(tx_Efic_Grupo))\n"
      ],
      "metadata": {
        "colab": {
          "base_uri": "https://localhost:8080/"
        },
        "id": "_h_kDFj1JuFG",
        "outputId": "c14e0558-9125-4927-f5a4-b00a88aa8f27"
      },
      "execution_count": 74,
      "outputs": [
        {
          "output_type": "stream",
          "name": "stdout",
          "text": [
            "Taxa de eficiência da Loja 1: 79.53.\n",
            "Taxa de eficiência da Loja 2: 80.75.\n",
            "Taxa de eficiência da Loja 3: 80.97.\n",
            "Taxa de eficiência da Loja 4: 79.92.\n",
            "Taxa de eficiência do Grupo: 80.29.\n"
          ]
        }
      ]
    },
    {
      "cell_type": "markdown",
      "source": [
        "**6.4 Comparar Prováveis Outliers para Itens Mais e Menos Vendidos.**"
      ],
      "metadata": {
        "id": "fNmAvOPymUJ-"
      }
    },
    {
      "cell_type": "code",
      "source": [
        "# Comparar Venda de Provável \"Outlier\" para Top 5 Mais Vendidos.\n",
        "\n",
        "# Filtrar o item a ser analisado.\n",
        "mais_lj1 = loja1.query(\"Produto == 'TV Led UHD 4K'\")\n",
        "mais_lj2 = loja2.query(\"Produto == 'TV Led UHD 4K'\")\n",
        "mais_lj3 = loja3.query(\"Produto == 'TV Led UHD 4K'\")\n",
        "mais_lj4 = loja4.query(\"Produto == 'TV Led UHD 4K'\")\n",
        "\n",
        "# Somar o valor de venda do item.\n",
        "t5_MaisV_Loja1 = float(mais_lj1['Preço'].sum())\n",
        "t5_MaisV_Loja2 = float(mais_lj2['Preço'].sum())\n",
        "t5_MaisV_Loja3 = float(mais_lj3['Preço'].sum())\n",
        "t5_MaisV_Loja4 = float(mais_lj4['Preço'].sum())\n",
        "t5_MaisV_Grupo = float(t5_MaisV_Loja1 + t5_MaisV_Loja2 +\n",
        "                       t5_MaisV_Loja3 + t5_MaisV_Loja4)\n",
        "\n",
        "# Somar a quantidade de venda do item.\n",
        "t5_MaisQ_Loja1 = int(mais_lj1['Preço'].count())\n",
        "t5_MaisQ_Loja2 = int(mais_lj2['Preço'].count())\n",
        "t5_MaisQ_Loja3 = int(mais_lj3['Preço'].count())\n",
        "t5_MaisQ_Loja4 = int(mais_lj4['Preço'].count())\n",
        "t5_MaisQ_Grupo = int(t5_MaisQ_Loja1 + t5_MaisQ_Loja2 +\n",
        "                     t5_MaisQ_Loja3 + t5_MaisQ_Loja4)\n",
        "\n",
        "print(\"Vendas TV Led UHD 4K:\")\n",
        "print(\"Loja 1: %i unidades, R$ %.2f.\" %(t5_MaisQ_Loja1,t5_MaisV_Loja1))\n",
        "print(\"Loja 2: %i unidades, R$ %.2f.\" %(t5_MaisQ_Loja2,t5_MaisV_Loja2))\n",
        "print(\"Loja 3: %i unidades, R$ %.2f.\" %(t5_MaisQ_Loja3,t5_MaisV_Loja3))\n",
        "print(\"Loja 4: %i unidades, R$ %.2f.\" %(t5_MaisQ_Loja4,t5_MaisV_Loja4))\n",
        "print(\"Grupo: %i unidades, R$ %.2f.\" %(t5_MaisQ_Grupo,t5_MaisV_Grupo))\n"
      ],
      "metadata": {
        "colab": {
          "base_uri": "https://localhost:8080/"
        },
        "id": "4Fj0ZT2lmSKz",
        "outputId": "161260b7-a026-4982-ca10-0316fe87fd66"
      },
      "execution_count": 75,
      "outputs": [
        {
          "output_type": "stream",
          "name": "stdout",
          "text": [
            "Vendas TV Led UHD 4K:\n",
            "Loja 1: 60 unidades, R$ 189534.28.\n",
            "Loja 2: 45 unidades, R$ 137833.06.\n",
            "Loja 3: 42 unidades, R$ 128892.11.\n",
            "Loja 4: 40 unidades, R$ 120393.25.\n",
            "Grupo: 187 unidades, R$ 576652.70.\n"
          ]
        }
      ]
    },
    {
      "cell_type": "code",
      "source": [
        "# Comparar Venda de Provável \"Outlier\" para Top 5 Menos Vendidos.\n",
        "\n",
        "# Filtrar o item a ser analisado.\n",
        "menos_lj1 = loja1.query(\"Produto == 'Lavadora de roupas'\")\n",
        "menos_lj2 = loja2.query(\"Produto == 'Lavadora de roupas'\")\n",
        "menos_lj3 = loja3.query(\"Produto == 'Lavadora de roupas'\")\n",
        "menos_lj4 = loja4.query(\"Produto == 'Lavadora de roupas'\")\n",
        "\n",
        "# Somar o valor de venda do item.\n",
        "t5_MenosV_Loja1 = float(menos_lj1['Preço'].sum())\n",
        "t5_MenosV_Loja2 = float(menos_lj2['Preço'].sum())\n",
        "t5_MenosV_Loja3 = float(menos_lj3['Preço'].sum())\n",
        "t5_MenosV_Loja4 = float(menos_lj4['Preço'].sum())\n",
        "t5_MenosV_Grupo = float(t5_MenosV_Loja1 + t5_MenosV_Loja2 +\n",
        "                       t5_MenosV_Loja3 + t5_MenosV_Loja4)\n",
        "\n",
        "# Somar a quantidade de venda do item.\n",
        "t5_MenosQ_Loja1 = int(menos_lj1['Preço'].count())\n",
        "t5_MenosQ_Loja2 = int(menos_lj2['Preço'].count())\n",
        "t5_MenosQ_Loja3 = int(menos_lj3['Preço'].count())\n",
        "t5_MenosQ_Loja4 = int(menos_lj4['Preço'].count())\n",
        "t5_MenosQ_Grupo = int(t5_MenosQ_Loja1 + t5_MenosQ_Loja2 +\n",
        "                     t5_MenosQ_Loja3 + t5_MenosQ_Loja4)\n",
        "\n",
        "print(\"Vendas Lavadora de Roupas:\")\n",
        "print(\"Loja 1: %i unidades, R$ %.2f.\" %(t5_MenosQ_Loja1,t5_MenosV_Loja1))\n",
        "print(\"Loja 2: %i unidades, R$ %.2f.\" %(t5_MenosQ_Loja2,t5_MenosV_Loja2))\n",
        "print(\"Loja 3: %i unidades, R$ %.2f.\" %(t5_MenosQ_Loja3,t5_MenosV_Loja3))\n",
        "print(\"Loja 4: %i unidades, R$ %.2f.\" %(t5_MenosQ_Loja4,t5_MenosV_Loja4))\n",
        "print(\"Grupo: %i unidades, R$ %.2f.\" %(t5_MenosQ_Grupo,t5_MenosV_Grupo))"
      ],
      "metadata": {
        "colab": {
          "base_uri": "https://localhost:8080/"
        },
        "id": "c3Vvfs9cphhR",
        "outputId": "bbf6dbc8-96e5-4d77-f080-c60593b68d21"
      },
      "execution_count": 76,
      "outputs": [
        {
          "output_type": "stream",
          "name": "stdout",
          "text": [
            "Vendas Lavadora de Roupas:\n",
            "Loja 1: 47 unidades, R$ 87711.30.\n",
            "Loja 2: 49 unidades, R$ 89016.81.\n",
            "Loja 3: 42 unidades, R$ 76612.58.\n",
            "Loja 4: 38 unidades, R$ 69951.68.\n",
            "Grupo: 176 unidades, R$ 323292.37.\n"
          ]
        }
      ]
    },
    {
      "cell_type": "markdown",
      "source": [
        "# 7. Gráficos"
      ],
      "metadata": {
        "id": "2hJU8fcGnGty"
      }
    },
    {
      "cell_type": "markdown",
      "source": [
        "## 7.1 Faturamento - Gráfico de Barras"
      ],
      "metadata": {
        "id": "T0ycNmPZnk_U"
      }
    },
    {
      "cell_type": "code",
      "source": [
        "# Importar o pyplot.\n",
        "import matplotlib.pyplot as plt"
      ],
      "metadata": {
        "id": "waS1cDBB7Lvj"
      },
      "execution_count": 77,
      "outputs": []
    },
    {
      "cell_type": "code",
      "source": [
        "# Gráfico de Barras\n",
        "\n",
        "x = ['Loja 1', 'Loja 2', 'Loja 3', 'Loja 4']\n",
        "y = [fat_Loja1, fat_Loja2, fat_Loja3, fat_Loja4]\n",
        "\n",
        "plt.bar(x, y)\n",
        "plt.ylim(1000000, 1700000 )\n",
        "plt.xlabel('Lojas')\n",
        "plt.ylabel('Faturamento')\n",
        "plt.title('Faturamento por Loja - Valores')\n",
        "plt.show()"
      ],
      "metadata": {
        "colab": {
          "base_uri": "https://localhost:8080/",
          "height": 472
        },
        "id": "izkoGfa5nghd",
        "outputId": "02b1a224-4b0f-4711-ec51-1b22809e3973"
      },
      "execution_count": 78,
      "outputs": [
        {
          "output_type": "display_data",
          "data": {
            "text/plain": [
              "<Figure size 640x480 with 1 Axes>"
            ],
            "image/png": "[encoded data removed]"
          },
          "metadata": {}
        }
      ]
    },
    {
      "cell_type": "markdown",
      "source": [
        "## 7.2 Média de Avaliação por Loja (Eficiência)"
      ],
      "metadata": {
        "id": "VyaMbBY6z3NX"
      }
    },
    {
      "cell_type": "code",
      "source": [
        "# Média de Avaliação por Loja, Indice de Eficiência\n",
        "\n",
        "x = ['Loja 1', 'Loja 2', 'Loja 3', 'Loja 4']\n",
        "y = [tx_Efic_Lj1, tx_Efic_Lj2, tx_Efic_Lj3, tx_Efic_Lj4]\n",
        "\n",
        "plt.bar(x, y, color = 'navajowhite')\n",
        "plt.xlabel('Lojas')\n",
        "plt.ylabel('Taxa de Eficiência')\n",
        "plt.title('Taxa de Eficiência por Loja')\n",
        "# plt.legend('2020 a 2022')\n",
        "plt.show()"
      ],
      "metadata": {
        "colab": {
          "base_uri": "https://localhost:8080/",
          "height": 472
        },
        "id": "cqyKC6Gq0P0c",
        "outputId": "72b4c309-faa4-4217-bd17-1036ddfb7f10"
      },
      "execution_count": 79,
      "outputs": [
        {
          "output_type": "display_data",
          "data": {
            "text/plain": [
              "<Figure size 640x480 with 1 Axes>"
            ],
            "image/png": "[encoded data removed]"
          },
          "metadata": {}
        }
      ]
    },
    {
      "cell_type": "markdown",
      "source": [
        "## 7.3 Custo Médio do Frete por Loja"
      ],
      "metadata": {
        "id": "HOYiTYbJ8aBn"
      }
    },
    {
      "cell_type": "code",
      "source": [
        "# Gráfico de Pizza para o Frete.\n",
        "\n",
        "x = ['Loja 1', 'Loja 2', 'Loja 3', 'Loja 4']\n",
        "y = [total_Frete_Loja1, total_Frete_Loja2, total_Frete_Loja3, total_Frete_Loja4]\n",
        "cores = ['violet', 'aquamarine', 'paleturquoise', 'moccasin']\n",
        "\n",
        "fig, ax = plt.subplots()\n",
        "plt.pie(y, labels = x, autopct = lambda v:f\"R$ {sum(y)*v/100:.2f}\",\n",
        "colors = cores, startangle = 90, shadow = True, explode = (0.05, 0.05, 0.05, 0.05))\n",
        "plt.title('Valor do Frete por Loja', fontsize = 18)\n",
        "ax.text(1.1, 1, f\"Valor Total do Frete: R$ {sum(y):.2f}\", fontsize = 10)\n",
        "plt.show()"
      ],
      "metadata": {
        "colab": {
          "base_uri": "https://localhost:8080/",
          "height": 433
        },
        "id": "31YhXaMp8pzP",
        "outputId": "1106e33e-1afa-4718-c84f-af7fcc2ccc12"
      },
      "execution_count": 80,
      "outputs": [
        {
          "output_type": "display_data",
          "data": {
            "text/plain": [
              "<Figure size 640x480 with 1 Axes>"
            ],
            "image/png": "[encoded data removed]"
          },
          "metadata": {}
        }
      ]
    },
    {
      "cell_type": "markdown",
      "source": [
        "## 7.4 Formas de Recebimento do Grupo.\n",
        "\n",
        "Cartão de Crédito: R$ 4.307.472,04\n",
        "\n",
        "Boleto:            R$ 1.174.246,18\n",
        "\n",
        "Cupom:             R$   314.495,10\n",
        "\n",
        "Cartão Débito:     R$    75.277,47\n"
      ],
      "metadata": {
        "id": "YaaqHKy4uLSV"
      }
    },
    {
      "cell_type": "code",
      "source": [
        "# Gráfico de Pizza Tipos de Recebimento.\n",
        "\n",
        "x = ['Cartão de Crédito', 'Boleto', 'Cupom', 'Cartão Débito']\n",
        "y = [ccredito_Total, boleto_Total, cupom_Total, cdebito_Total]\n",
        "cores1 = ['lightcoral', 'lightskyblue', 'palegreen', 'bisque']\n",
        "\n",
        "fig, ax = plt.subplots()\n",
        "plt.pie(y, labels = x, autopct = '%1.2f%%', colors = cores1, startangle = 180,\n",
        "        shadow = True, explode = (0, 0, 0, 0.1),\n",
        "        pctdistance = 0.8, labeldistance = 1.1)\n",
        "plt.title('Vendas por Tipo de Recebimento', fontsize = 18)\n",
        "plt.tight_layout() # Impede que os rótulos se sobreponham.\n",
        "plt.show()"
      ],
      "metadata": {
        "colab": {
          "base_uri": "https://localhost:8080/",
          "height": 487
        },
        "id": "F9T0apV5PAdr",
        "outputId": "e88c6026-9e35-4016-8de4-823333efd326"
      },
      "execution_count": 81,
      "outputs": [
        {
          "output_type": "display_data",
          "data": {
            "text/plain": [
              "<Figure size 640x480 with 1 Axes>"
            ],
            "image/png": "[encoded data removed]"
          },
          "metadata": {}
        }
      ]
    },
    {
      "cell_type": "markdown",
      "source": [
        "# 8. Relatório"
      ],
      "metadata": {
        "id": "adKWSncwSsKy"
      }
    },
    {
      "cell_type": "markdown",
      "source": [
        "O objetivo deste projeto é fornecer insights para o cliente Sr. João decidir sobre o rumo do seu grupo de Lojas Alura.\n",
        "\n",
        "Considerações Iniciais:\n",
        "\n",
        "I - Recebidos os dados enviados pelo cliente, foi realizada uma primeira análise dos mesmos, para verificar a integridade, a existência de valores nulos e outros que possam prejudicar o cálculo dos indicadores operacionais. Nada foi encontrado. Não foram considerados valores de outliers para esta primeira etapa.\n",
        "\n",
        "II – O período contido nos dados indica que os mesmos foram selecionados por algum tipo de amostragem, o que deixa muitos questionamentos, pois não houve informação sobre a metodologia usada para essa seleção.\n",
        "\n",
        "III – Provavelmente como fruto da metodologia da amostragem dos dados, todos os indicadores analisados apresentaram resultados bastante similares, até com uma certa linearidade, sem grandes desvios da média geral do grupo.\n",
        "\n",
        "IV – Apenas na métrica Top 5 Mais vendidos a Loja 1 apresentou um item de venda que está acima da média do grupo, mas não em valor que possa ser considerado como outlier.\n",
        "\n",
        "Passamos aos resultados apurados das métricas analisadas:\n",
        "\n",
        "\n",
        "\n"
      ],
      "metadata": {
        "id": "OaaIYGXQS4ey"
      }
    },
    {
      "cell_type": "markdown",
      "source": [
        "***A) Faturamento:***\n",
        "Para os dados apresentados, a Loja 4 apresenta uma variação de -5,65% em relação ao preço médio do grupo pelo mix de vendas realizado no período. As quantidades estão similares.\n",
        "\n",
        "***B) Vendas por Categoria:***\n",
        "Todas as lojas estão em linha umas com as outras, pelos dados apresentados.\n",
        "\n",
        "***C) Média de Avaliação por Loja:***\n",
        "As notas médias de avaliação por loja estão em bom nível, sem nenhuma grande alteração. Transformando em Taxa de Eficiência, o grupo atinge um valor de 80,29 de um total de 100.\n",
        "\n",
        "***D) Produtos Mais e Menos Vendidos:***\n",
        "De acordo com os dados apresentados, não é possível afirmar que os resultados sejam normais ou não, já que a \"metodologia\" de amostragem não foi declarada.\n",
        "Uma observação para o Top 5 Mais Vendidos da Loja 1: A Loja 1 vendeu 28,34% unidades a mais que a média do grupo, e o preço médio por unidade está 2,44% acima da média do grupo, no item `TV Led UHD 4K`.\n",
        "\n",
        "***E) Frete Médio por Loja:***\n",
        "Também conforme os dados apresentados, os resultados médios por loja estão em linha com a média do grupo. Este item precisa de uma análise mais profunda, com maior quantidade de informação para traçar um cenário mais acertivo. Este item pode ser melhorado, com um estudo mais aprofundado.\n",
        "\n",
        "*F) Outras Métricas:*\n",
        "Outros indicadores operacionais observados durante o estudo, e que também merecem uma avaliação mais aprofundada:\n",
        "\n",
        "*1- Vendas por tipo de pagamento, média grupo:*\n",
        "\n",
        "Cartão de Crédito:  73,4%\n",
        "\n",
        "Boleto Bancário:    20,0%\n",
        "\n",
        "Cupom:               5,4%\n",
        "\n",
        "Cartão de Débito:    1,2%\n",
        "\n",
        "A venda por cartão de crédito está em mais de 70%, e o custo deste tipo de venda (taxas e tarifas) é bem expressivo. É interessante verificar esses custos, e promover algumas ações para incentivar o pagamento via Cartão de Débito.\n",
        "\n",
        "\n"
      ],
      "metadata": {
        "id": "70F-2XDTzu_8"
      }
    },
    {
      "cell_type": "markdown",
      "source": [
        "Gráficos apresentados para facilitar a visualização das métricas:\n",
        "\n",
        "\n",
        "\n",
        "**CONCLUSÃO:**\n",
        "Com base nos dados apresentados, e pela amostragem ser muito ampla, de 01/01/2020 a 31/12/2022, não é possível afirmar que o Sr. João deva vender uma das lojas para investir em um novo negócio, ou fazer outro tipo de investimento.\n",
        "\n",
        "O mais indicado seria aprofundar o estudo com uma quantidade maior de dados, que representem com maior fidedignidade os períodos a serem analisados.\n",
        "\n",
        "Pelos resultados superficiais que as métricas estudadas apresentaram, seria temerário sugerir uma loja à ser sacrificada. O mais interessante seria trabalhar em melhorar a performance do grupo, agregar mais valor à cada uma das lojas, para posteriormente retornar a essa questão de venda do negócio, caso considere pertinente.\n",
        "\n",
        "\n",
        "\n",
        "\n",
        "\n",
        "\n",
        "\n",
        "\n"
      ],
      "metadata": {
        "id": "JYYiQgguQc-S"
      }
    }
  ]
}